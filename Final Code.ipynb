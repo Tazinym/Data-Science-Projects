{
 "cells": [
  {
   "cell_type": "markdown",
   "metadata": {
    "id": "c92HW2tHW0Ji"
   },
   "source": [
    "### Import requires libraries\n",
    "This tutorial uses just Python core libraries, Scipy (Numpy, Matplotlib and others) and GDAL. For Windows users, the most effective way is to download the GDAL Wheel from https://www.lfd.uci.edu/~gohlke/pythonlibs/ and install through pip."
   ]
  },
  {
   "cell_type": "code",
   "execution_count": 5,
   "metadata": {
    "id": "umjkfZUUW0Jt"
   },
   "outputs": [],
   "source": [
    "from osgeo import ogr, gdal, osr\n",
    "import numpy as np\n",
    "import os\n",
    "import matplotlib.pyplot as plt\n",
    "import glob\n",
    "import fnmatch\n",
    "from PIL import Image\n",
    "import os, os.path\n",
    "from pylab import *\n",
    "from parse import parse\n",
    "import datetime\n",
    "import pandas as pd\n",
    "import skimage.transform as st"
   ]
  },
  {
   "cell_type": "code",
   "execution_count": 6,
   "metadata": {
    "id": "8DOl8o4cLKwc"
   },
   "outputs": [],
   "source": [
    "def saveRaster(dataset,datasetPath,cols,rows,projection,geotransform):\n",
    "    rasterSet = gdal.GetDriverByName('GTiff').Create(datasetPath, cols, rows,1,gdal.GDT_Float32)\n",
    "    rasterSet.SetProjection(projection)\n",
    "    rasterSet.SetGeoTransform(geotransform)\n",
    "    rasterSet.GetRasterBand(1).WriteArray(dataset)\n",
    "    rasterSet.GetRasterBand(1).SetNoDataValue(-999)\n",
    "    rasterSet = None"
   ]
  },
  {
   "cell_type": "code",
   "execution_count": 7,
   "metadata": {
    "id": "ABysQm0ILObZ"
   },
   "outputs": [],
   "source": [
    "def plotNDVI(ndviImage,extentArray,vmin,cmap):\n",
    "    ndvi = gdal.Open(ndviImage)\n",
    "    ds2019 = ndvi.ReadAsArray()\n",
    "    plt.figure(figsize=(20,15))\n",
    "    im = plt.imshow(ds2019, vmin=vmin, cmap=cmap, extent=extentArray)#\n",
    "    plt.colorbar(im, fraction=0.015)\n",
    "    plt.xlabel('Este')\n",
    "    plt.ylabel('Norte')\n",
    "    plt.show()\n",
    "    "
   ]
  },
  {
   "cell_type": "code",
   "execution_count": null,
   "metadata": {},
   "outputs": [
    {
     "name": "stdout",
     "output_type": "stream",
     "text": [
      "19991124\n",
      "20000228\n",
      "20001126\n",
      "20020201\n",
      "20020217\n",
      "20020305\n",
      "20021116\n",
      "20021202\n",
      "20030119\n",
      "20030308\n",
      "20030324\n",
      "20031119\n",
      "20031205\n",
      "20041020\n",
      "20041207\n",
      "20050108\n",
      "20050225\n",
      "20051210\n",
      "20051226\n"
     ]
    }
   ],
   "source": [
    "imgs = []\n",
    "path_B3=[]\n",
    "path_B4=[]\n",
    "path = \"../137044-L7/\"\n",
    "df={}\n",
    "i=0\n",
    "fixedX1 = 119985\n",
    "fixedX2 = 346215  # Lowest final X\n",
    "fixedY1 = 2663115\n",
    "fixedY2 = 2453685\n",
    "\n",
    "for f in os.listdir(path):\n",
    "     if fnmatch.fnmatch(f, '*B4*'):\n",
    "        path_B4 = path + str(f)\n",
    "        pattern = 'LE07_L2SP_137044_{Dates}_{otherstuff}.tif'\n",
    "        result = parse(pattern, f)\n",
    "        path_B3 = path + f.replace(\"B4.TIF\", \"B3.TIF\")  \n",
    "               \n",
    "        #Output NDVI Rasters \n",
    "        path_NDVI = '../Output/NDVI.tif'\n",
    "      \n",
    "        #NDVI Contours\n",
    "        contours_NDVIChange_19_14 = '../Output/NDVIChange_19_14.shp'\n",
    "        \n",
    "        #Open raster bands\n",
    "        B4 = gdal.Open(path_B4)\n",
    "        B3 = gdal.Open(path_B3)\n",
    "        #Read bands as matrix arrays\n",
    "        B4_Data = B4.GetRasterBand(1).ReadAsArray().astype(np.float32)\n",
    "        B3_Data = B3.GetRasterBand(1).ReadAsArray().astype(np.float32)\n",
    "        \n",
    "        \n",
    "        geotransform=B4.GetGeoTransform()\n",
    "        originX,pixelWidth,empty,finalY,empty2,pixelHeight=geotransform\n",
    "        cols =  B4.RasterXSize\n",
    "        rows =  B4.RasterYSize\n",
    "        \n",
    "        projection = B4.GetProjection()\n",
    "        finalX = originX + pixelWidth * cols\n",
    "        originY = finalY + pixelHeight * rows\n",
    "        \n",
    "        initialrow = int((finalY-fixedY1)/30)\n",
    "        finalrow = int(((finalY-originY)/30)-((fixedY2-originY)/30))\n",
    "        initialcol = int((fixedX1 - originX)/30)\n",
    "        finalcol = int(((finalX-originX)/30)-((finalX-fixedX2)/30))\n",
    "        B4_Data = B4_Data[initialrow: finalrow,initialcol : finalcol]\n",
    "        B3_Data = B3_Data[initialrow: finalrow,initialcol : finalcol]  \n",
    "        \n",
    "        B4_Data = B4_Data[1000: 6000,1500 : 6000]\n",
    "        B3_Data = B3_Data[1000: 6000,1500 : 6000]\n",
    "          \n",
    "        new_rr_shape=(64,64)\n",
    "        B3_Data = st.resize(B3_Data, new_rr_shape, mode='constant') \n",
    "        B4_Data = st.resize(B4_Data, new_rr_shape, mode='constant')\n",
    "        ndvi = np.divide(B4_Data - B3_Data, B4_Data+ B3_Data,where=(B4_Data - B3_Data)!=0)\n",
    "        ndvi[ndvi == 0] = -999\n",
    "        df[result['Dates']] = ndvi\n",
    "        print(result['Dates'])\n",
    "        "
   ]
  },
  {
   "cell_type": "code",
   "execution_count": null,
   "metadata": {},
   "outputs": [],
   "source": [
    "outfile1='dict64L7.npz'\n",
    "np.savez(outfile, **df)"
   ]
  },
  {
   "cell_type": "code",
   "execution_count": null,
   "metadata": {},
   "outputs": [],
   "source": [
    "\n",
    "#Input Raster and Vector Paths\n",
    "\n",
    "#All images of 17044 scene\n",
    "\n",
    "imgs = []\n",
    "path_B4=[]\n",
    "path_B5=[]\n",
    "path = \"../137044/\"\n",
    "df={}\n",
    "i=0\n",
    "\n",
    "# Defining Image Size\n",
    "fixedX1 = 119985\n",
    "fixedX2 = 346215  # Lowest final X\n",
    "fixedY1 = 2663115\n",
    "fixedY2 = 2453685\n",
    "\n",
    "z=0\n",
    "for f in os.listdir(path):\n",
    "     if fnmatch.fnmatch(f, '*B5*'):\n",
    "        path_B5 = path + str(f)\n",
    "        pattern = 'LC08_L2SP_137044_{Dates}_{otherstuff}.tif'\n",
    "        result = parse(pattern, f)\n",
    "        path_B4 = path + f.replace(\"B5.TIF\", \"B4.TIF\")  \n",
    "        \n",
    "\n",
    "        #Output NDVI Rasters \n",
    "        path_NDVI = '../Output/NDVI.tif'\n",
    "      \n",
    "        #NDVI Contours\n",
    "        contours_NDVIChange_19_14 = '../Output/NDVIChange_19_14.shp'\n",
    "        \n",
    "        #Open raster bands\n",
    "        B5 = gdal.Open(path_B5)\n",
    "        B4 = gdal.Open(path_B4)\n",
    "        #Read bands as matrix arrays\n",
    "        B5_Data = B5.GetRasterBand(1).ReadAsArray().astype(np.float32)\n",
    "        B4_Data = B4.GetRasterBand(1).ReadAsArray().astype(np.float32)\n",
    "        \n",
    "    \n",
    "       \n",
    "        geotransform=B5.GetGeoTransform()\n",
    "        originX,pixelWidth,empty,finalY,empty2,pixelHeight=geotransform\n",
    "        cols =  B5.RasterXSize\n",
    "        rows =  B5.RasterYSize\n",
    "        \n",
    "        projection = B5.GetProjection()\n",
    "        finalX = originX + pixelWidth * cols\n",
    "        originY = finalY + pixelHeight * rows\n",
    "        \n",
    "        print(\"final x and originY \",finalX, originY)\n",
    "        print(B5.GetGeoTransform())\n",
    "        \n",
    "        \n",
    "        initialrow = int((finalY-fixedY1)/30)\n",
    "        finalrow = int(((finalY-originY)/30)-((fixedY2-originY)/30))\n",
    "        initialcol = int((fixedX1 - originX)/30)\n",
    "        finalcol = int(((finalX-originX)/30)-((finalX-fixedX2)/30))\n",
    "        B5_Data = B5_Data[initialrow: finalrow,initialcol : finalcol]\n",
    "        B4_Data = B4_Data[initialrow: finalrow,initialcol : finalcol]  \n",
    "        \n",
    "        B5_Data = B5_Data[1000: 6000,1500 : 6000]\n",
    "        B4_Data = B4_Data[1000: 6000,1500 : 6000]\n",
    "          \n",
    "        new_rr_shape=(64,64)\n",
    "        B4_Data = st.resize(B4_Data, new_rr_shape, mode='constant') \n",
    "        B5_Data = st.resize(B5_Data, new_rr_shape, mode='constant')\n",
    "        ndvi = np.divide(B5_Data - B4_Data, B5_Data+ B4_Data,where=(B5_Data - B4_Data)!=0)\n",
    "        ndvi[ndvi == 0] = -999\n",
    "        df[result['Dates']] = ndvi\n",
    "        print(result['Dates'])\n",
    "        "
   ]
  },
  {
   "cell_type": "code",
   "execution_count": null,
   "metadata": {},
   "outputs": [],
   "source": [
    "outfile2='dict64L8.npz'\n",
    "np.savez(outfile, **df)"
   ]
  }
 ],
 "metadata": {
  "colab": {
   "collapsed_sections": [],
   "name": "LandCoverChange.ipynb",
   "provenance": []
  },
  "kernelspec": {
   "display_name": "Python 3",
   "language": "python",
   "name": "python3"
  },
  "language_info": {
   "codemirror_mode": {
    "name": "ipython",
    "version": 3
   },
   "file_extension": ".py",
   "mimetype": "text/x-python",
   "name": "python",
   "nbconvert_exporter": "python",
   "pygments_lexer": "ipython3",
   "version": "3.8.5"
  }
 },
 "nbformat": 4,
 "nbformat_minor": 1
}
